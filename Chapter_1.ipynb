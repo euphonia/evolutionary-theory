{
 "cells": [
  {
   "cell_type": "markdown",
   "metadata": {
    "collapsed": true
   },
   "source": [
    "# Chapter 1: Selection on One Locus"
   ]
  },
  {
   "cell_type": "markdown",
   "metadata": {},
   "source": [
    "Early (c. 1900) attempts to model evolution focused on allelic variation and transfer from one generation to the next. Essentially, selection acted on genotype, not phenotype, which, while not necessarily correct, greatly simplified the models.  \n",
    "\n",
    "The first notable model, proposed by Hardy and Weinberg independently, is remarkably simple. It assumes **two alleles comprise the genotype of each gene**, like all diploid organisms , and assumes random, independent assortment of genes from parents to offspring. There's no migration, recombination, mutation, sex-linkage, or even selection. It's so simple that most children learn it in middle school. "
   ]
  },
  {
   "cell_type": "markdown",
   "metadata": {},
   "source": [
    "For alleles $A$, each allele $a_{i}$ occurs at frequency $p_{i}$. The probability of any combination of two alleles becomes: \n",
    "\n",
    "\\begin{equation}\n",
    "P(a_{i}a_{j}) =\n",
    "    \\begin{cases}\n",
    "        p_{i}^2 & \\text{for } i=j \\\\\n",
    "        2p_{i}p_{j} & \\text{for } i\\neq j \\\\\n",
    "    \\end{cases}\n",
    "\\end{equation}\n",
    "\n",
    "This was indeed low-hanging fruit. "
   ]
  },
  {
   "cell_type": "markdown",
   "metadata": {},
   "source": [
    "##Fitness and Selection\n",
    "\n",
    "In the century that followed, it need not be said that models became more sophisticated. Central to all of them was the notion of evolutionary **fitness**. Its definition morphs a bit based on the context, but for the record:\n",
    "\n",
    "$$\\textbf{fitness}\\text{ (}W\\text{) - the contribution or propensity\n",
    "for contribution } \\\\ \\text{ of a given individual to the next generation.}$$"
   ]
  },
  {
   "cell_type": "markdown",
   "metadata": {},
   "source": [
    "**Abolute fitness** is used to describe non-scaled fitness values, such as the number of offspring left by the object under selection. **Relative fitness** is simply the absolute fitness scaled by some factor, often the fitness value of the fittest individual. Absolute fitness is more useful for situations involving population growth and answering other ecologically-oriented questions.  \n",
    "\n",
    "Another measure, effective or **marginal fitness**, is the average fitness of an allele given all of its possible allele pairs weighted by the probability of their pairing. Symbolically:\n",
    "\n",
    "$$ w_{i}^{*} = \\sum_{j=1}^{n} p_{j}w_{ij} $$\n",
    "\n",
    "where $w_{i}^{*}$ is the marginal fitness of allele i."
   ]
  },
  {
   "cell_type": "markdown",
   "metadata": {},
   "source": [
    "##Starting Easy: Fitness and the H-W Model\n",
    "\n",
    "Adding fitness and, implicitly, population growth to the Hardy-Wienberg model is simple. For each allele combination $a_{i}a_{j}$, there is an associated fitness $w_{ij}$. It is assumed that $a_{i}a_{j}$ and $a_{j}a_{i}$ are equivalent and have equivalent fitness.  \n",
    "\n",
    "From the original model, the frequencies of two-allele combinations is a binomial expansion of however many alleles exist for a given gene. To compute the population size after one generation, simply multiply the probability of each combination with its fitness. For a two-allele model of a single gene with a population of size $N_{t}$ at time $t$  :\n",
    "\n",
    "$$ N_{t+1} = \\big( p_{1}^2 w_{11} + 2p_{1}p_{2}w_{12} + p_{2}^2 w_{22} \\big)N_{t}$$\n",
    "\n",
    "$p_{1}$ is the normalized frequency of allele 1, $p_{2}$ is its counterpart for allele 2, and w_{ij} is the fitness of the combination of \n",
    "\n",
    "Because $p_{2} = 1 - p_{1}$ for two-alleles, this is simplified to:\n",
    "\n",
    "$$ N_{t+1} = \\big( p_{1}^2 w_{11} + 2p_{1}(1-p_{1})w_{12} + (1-p_{1}^2) w_{22} \\big)N_{t}$$\n",
    "\n",
    "or\n",
    "\n",
    "$$ N_{t+1} = \\bar{w}N_{t}$$\n",
    "\n",
    "where \n",
    "\n",
    "$$ \\bar{w} = p_{1}^2 w_{11} + 2p_{1}(1-p_{1})w_{12} + (1-p_{1}^2) w_{22} $$\n",
    "\n",
    "\n",
    "$\\bar{w}$ is the mean population fitness because it is the weighed sum of the fitness contribution of each possible allele combination.  \n",
    "\n",
    "Differentiating with respect to population fitness, under the at times incorrect assumption that fitness is frequency-independent, gives (with come rearranging): \n",
    "\n",
    "$$ \\frac{d\\bar{w}}{dt} = 2 \\big( p w_{11} + (1-p) w_{12} \\big) - 2 \\big( p w_{12} + (1-p) w_{22} \\big) $$\n",
    "\n",
    "Or, if you recall the definition of marginal fitness:\n",
    "\n",
    "$$ \\frac{d\\bar{w}}{dt} = 2 \\big(w_1^*  - w_2^* \\big) $$\n",
    "\n",
    "To put the resulting equation into words, **the change in the fitness of the population is based on the fitness difference between the two alleles**. "
   ]
  },
  {
   "cell_type": "markdown",
   "metadata": {},
   "source": [
    "In this simplistic system, if there's any differential, over time with unlimited growth, the frequency of the more fit allele will asymptotically approach 1. This can be stated mathematically as follows: \n",
    "\n",
    "Let $n_{T}$ be the total population and $n_{1}$ and $n_{2}$ be the sizes of the subpopulations for allele 1 and 2, respectively. Thus,\n",
    "\n",
    "$$p_{1} = \\frac{n_{1}}{n_{T}}\\text{, and}\\\\\n",
    "p_{2} = \\frac{n_{2}}{n_{T}} $$\n",
    "\n",
    "Now, the marginal fitness is the propensity of an allele to reproduce itself in future generations, given an initial set of allele frequencies. The number of any given allele that will appear in the next generation $t+1$ becomes the product of the marginal fitness and size of the subpopulation in generation $t$. To find the probability of a specific allele in future generations: \n",
    "\n",
    "$$ p_{i,t+1} = \\frac{n_{i}w_{i}^{*}}{n_{T}\\bar{w}} $$\n",
    "\n",
    "To compute changes in frequencies, $\\Delta p$, do the following:\n",
    "\n",
    "$$ \\begin{split}\n",
    "\\Delta p_{i} & = p_{i,t+1} - p_{i,t}\\\\ \n",
    "& = \\frac{n_{i}w_{i}^{*}}{n_{T}\\bar{w}} - p_{i,t}\\\\\n",
    "& = p_{i,t}\\frac{w_{i}^{*}}{\\bar{w}} - p_{i,t}\\\\\n",
    "& = p_{i,t}\\frac{w_{i}^{*}}{\\bar{w}} - p_{i,t}\\frac{\\bar{w}}{\\bar{w}} \\\\\n",
    "& = \\frac{p_{i,t}}{\\bar{w}}\\big( w_{i}^{*} - \\bar{w} \\big)\n",
    "\\end{split}$$"
   ]
  },
  {
   "cell_type": "markdown",
   "metadata": {},
   "source": [
    "We can use the equations derived so far to get an equation relating change in allele frequencies to changes in mean fitness for two-allele cases. For two alleles: \n",
    "\n",
    "$$\\begin{split}\n",
    "\\frac{p_{i,t}}{\\bar{w}} \\big( w_{i}^{*} - \\bar{w} \\big) \\rightarrow & \n",
    "\\frac{p}{\\bar{w}} \\big( w_{i}^{*} - (p w_{1}^{*} + (1-p) w_{2}^{*}) \\big) \\\\\n",
    "& = \\frac{p(1-p)}{\\bar{w}}\\big( w_{1}^{*} - w_{2}^{*} \\big)\\\\\n",
    "& = \\frac{p(1-p)}{2 \\bar{w}} \\frac{d\\bar{w}}{dt}\\\\\n",
    "& = \\frac{p(1-p)}{2} \\frac{d\\ln{\\bar{w}}}{dt}\n",
    "\\end{split}$$\n",
    "\n",
    "\n",
    "$$\n",
    "\\Rightarrow\\Delta p = \\frac{p(1-p)}{2} \\frac{d\\ln{\\bar{w}}}{dt}\n",
    "$$\n",
    "\n",
    "At long last, we have an equation worth investigation. "
   ]
  },
  {
   "cell_type": "markdown",
   "metadata": {},
   "source": [
    "##Frequency-Independent Selection\n",
    "\n",
    "The equation just derived: \n",
    "$$\\Delta p = \\frac{p(1-p)}{2} \\frac{d\\ln{\\bar{w}}}{dt}$$\n",
    "\n",
    "is Wright's (1937) equation for an **adaptive landscape**. Given that the $p(1-p)$ term is non-negative, the only equilibrium condition is when the fitness is not changing because the marginal fitnesses of both alleles are equal. Otherwise, the population will asymptotically approach an extreme where the frequency of $p$ is 0 or 1. \n",
    "\n",
    "Also, it is worth noting that changes in $\\Delta p$ correspond to a change in $\\ln{\\bar{w}}$, a measure of the instantaneous growth rate of the population. This is where the notion of a landscape come in. The population under selection changes its allele frequencies to navigate a set of possible configurations and their corresponding fitness values. In this case, the navigation is analogous to 'hill-climbing,' i.e. the population moves from positions of low fitness to high fitness in the landscape. Relative maxima on the fitness landscape correspond to allele combinations that maximize (relatively) growth rate of the population. "
   ]
  },
  {
   "cell_type": "markdown",
   "metadata": {},
   "source": [
    "### Example\n",
    "\n",
    "Let there be two alleles with fitness values:\n",
    "$$\n",
    "w_{11} = .2\\\\\n",
    "w_{12} = .5\\\\\n",
    "w_{22} = 1\n",
    "$$"
   ]
  },
  {
   "cell_type": "code",
   "execution_count": null,
   "metadata": {
    "collapsed": false
   },
   "outputs": [],
   "source": [
    "using Gadfly # for plotting\n",
    "using Interact # for interactive sliders\n",
    "\n",
    "function computeNextGen(p, w_11, w_12, w_22)\n",
    "    marginal_w1 = p*w_11 + (1-p)*w_12\n",
    "    marginal_w2 = p*w_12 + (1-p)*w_22\n",
    "    return p*(1-p)/2 * (marginal_w1 - marginal_w2) + p\n",
    "end\n",
    "\n",
    "@manipulate for w_11=0:.01:1, w_12=0:.01:1, w_22=0:.01:1\n",
    "    plot(layer(p -> computeNextGen(p, w_11, w_12, w_22), 0, 1),\n",
    "    layer(x=linspace(0,1,100), y=linspace(0,1,100), Geom.line, Theme(default_color=color(\"black\"))),\n",
    "        Guide.xlabel(\"p<sub>t</sub>\"), Guide.ylabel(\"p<sub>t+1</sub>\")\n",
    "    )\n",
    "end"
   ]
  },
  {
   "cell_type": "code",
   "execution_count": null,
   "metadata": {
    "collapsed": false
   },
   "outputs": [],
   "source": [
    "function computeFitness(p, w_11, w_12, w_22)\n",
    "    return p^2*w_11 + 2*p*(1-p)*w_12 + (1-p)^2*w_22\n",
    "end\n",
    "\n",
    "# It glitches up when all fitness values are the same.\n",
    "@manipulate for w_11=0:.01:1, w_12=0:.01:1, w_22=0:.01:1\n",
    "    plot(layer(p -> computeFitness(p, w_11, w_12, w_22), 0, 1),\n",
    "        Guide.xlabel(\"p<sub>t</sub>\"), Guide.ylabel(\"w\")\n",
    "    )\n",
    "end"
   ]
  },
  {
   "cell_type": "markdown",
   "metadata": {},
   "source": [
    "From the above examples, it's possible to see that some configurations of fitness values produce a stable equilibrium, unstable equilibrium, or cause one allele to dominate over the other outright.  \n",
    "\n",
    "The reasons for this can be understood more rigorously by looking at the fitness function itself. Recall from earlier:\n",
    "\n",
    "$$ \\bar{w} = p_{1}^2 w_{11} + 2p_{1}(1-p_{1})w_{12} + (1-p_{1}^2) w_{22} $$\n",
    "\n",
    "This is a quadratic equation. Depending on the choices of coefficients and offsets, it can have an absolute maximum of minimum. Because the function is contrained to $[0,1]$, the function can also be constrained such that the fitness function only catches one 'side' of the function, meaning that for all allele frequencies, it can be monotonically increasing or decreasing. "
   ]
  },
  {
   "cell_type": "markdown",
   "metadata": {},
   "source": [
    "###Frequency-Dependent Selection"
   ]
  },
  {
   "cell_type": "markdown",
   "metadata": {
    "collapsed": true
   },
   "source": [
    "When calculating the derivative of mean population fitness with allele frequency earlier, we assumed that fitness was frrequency-independent. Often, this is not the case, such as when traits confer competitive advantages or disadvantages *with respect to* other alleles. For example, an allele that makes an organism larger and better able to beat out smaller competitors for resources loses its fitness benefits should the allele for smaller size fall out of the population.  \n",
    "\n",
    "Differentiating the two-allele model under the assumption of frequency dependence: \n",
    "\n",
    "$$ \\bar{w} = p_{1}^2 w_{11} + 2p_{1}(1-p_{1})w_{12} + (1-p_{1}^2) w_{22} $$\n",
    "\n",
    "$$ \\begin{split}\n",
    "\\frac{d\\bar{w}}{dp} & = \\big(2p_{1}w_{11} + p_{1}^2 \\frac{dw_{11}}{dp}\\big) + \\big( 2(1-2p_{1})w_{12} + 2p_{1}(1-p_{1})\\frac{dw_{12}}{dp}\\big) + \\big( (-2p_{1}) w_{22} + (1-p_{1}^2) \\frac{dw_{22}}{dp}\\big) \\\\\n",
    "& = 2 \\big(w_1^*  - w_2^* \\big) + (1-p_{1}^2) \\frac{dw_{22}}{dp} + 2p_{1}(1-p_{1})\\frac{dw_{12}}{dp} + p_{1}^2 \\frac{dw_{11}}{dp}\n",
    "\\end{split}\n",
    "$$"
   ]
  },
  {
   "cell_type": "markdown",
   "metadata": {},
   "source": [
    "The final three terms in the last equation are simply derivatives of each fitness value with respect to p, scaled by the frequency of the allele combination in the population.  \n",
    "\n",
    "Another way of looking at the quantity is the *average*, or *expected value*, of $\\frac{d\\bar{w}}{dp}$. Thus, the equation can be simplified to:\n",
    "\n",
    "$$\\frac{d\\bar{w}}{dp} = 2 \\big(w_1^{*} - w_2^{*} \\big) + E \\Big[\\frac{dw}{dp}\\Big]$$\n",
    "\n",
    "The first term $2 \\big(w_1^{*} - w_2^{*}\\big)$, is simply the frequency-independent contribution to fitness. Substituting the previously defined equation for $\\Delta p$:\n",
    "\n",
    "$$\\frac{d\\bar{w}}{dp} = 2 \\Delta p \\Big( \\frac{\\bar{w}}{p(1-p)} \\Big) + E \\Big[\\frac{dw}{dp}\\Big]$$\n",
    "\n",
    "which mean, when rearranged: \n",
    "$$\n",
    "\\Delta p = \\frac{p(1-p)}{2\\bar{w}} \\Big( \\frac{d\\bar{w}}{dp} - E \\Big[\\frac{dw}{dp}\\Big] \\Big)\n",
    "$$ "
   ]
  },
  {
   "cell_type": "code",
   "execution_count": null,
   "metadata": {
    "collapsed": true
   },
   "outputs": [],
   "source": []
  }
 ],
 "metadata": {
  "kernelspec": {
   "display_name": "Julia 0.3.8",
   "language": "julia",
   "name": "julia-0.3"
  },
  "language_info": {
   "name": "julia",
   "version": "0.3.11"
  }
 },
 "nbformat": 4,
 "nbformat_minor": 0
}
